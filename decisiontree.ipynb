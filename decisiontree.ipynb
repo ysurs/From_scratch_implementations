{
 "cells": [
  {
   "cell_type": "code",
   "execution_count": 26,
   "id": "d886e325-f00f-4b73-833b-b43aa3c93a87",
   "metadata": {},
   "outputs": [],
   "source": [
    "from collections import Counter\n",
    "import numpy as np\n"
   ]
  },
  {
   "cell_type": "code",
   "execution_count": 20,
   "id": "2d3b6fa4-76fc-4ee9-99c8-795e05aca705",
   "metadata": {},
   "outputs": [],
   "source": [
    "def entropy(y):\n",
    "    hist=np.bincount(y)\n",
    "    ps=hist/len(y)\n",
    "    return -np.sum([p*np.log2(p) for p in ps if p>0])\n",
    "    "
   ]
  },
  {
   "cell_type": "code",
   "execution_count": 21,
   "id": "1f82e543-721d-4bfa-af66-39a179247811",
   "metadata": {},
   "outputs": [
    {
     "name": "stdout",
     "output_type": "stream",
     "text": [
      "0.7219280948873623\n"
     ]
    }
   ],
   "source": [
    "test_y=[0,0,0,0,1]\n",
    "print(entropy(test_y))"
   ]
  },
  {
   "cell_type": "code",
   "execution_count": 31,
   "id": "8af6c56a-455d-4660-9a94-9b17c9b6edd3",
   "metadata": {},
   "outputs": [],
   "source": [
    "class Node:\n",
    "    \n",
    "    def __init__(self,feature=None,threshold=None,left=None,right=None,*,value=None):\n",
    "        self.feature=feature\n",
    "        self.value=value\n",
    "        self.threshold=threshold\n",
    "        self.left=left\n",
    "        self.right=right\n",
    "        \n",
    "    def isleaf(self):\n",
    "        return self.value is not None"
   ]
  },
  {
   "cell_type": "code",
   "execution_count": 44,
   "id": "d3c9eafb-6ae0-4d14-bcaf-bf39c0bda22f",
   "metadata": {},
   "outputs": [],
   "source": [
    "class DecisionTree:\n",
    "    \n",
    "    def __init__(self,min_samples_split=2,max_depth=10,n_features=None):\n",
    "        self.min_samples_split=min_samples_split\n",
    "        self.max_depth=max_depth\n",
    "        self.n_features=n_features\n",
    "        self.root=None\n",
    "        \n",
    "    def find_most_common(self,y):\n",
    "        counter=Counter(y)\n",
    "        most_common=counter.most_common(1)[0][0]\n",
    "        return most_common\n",
    "        \n",
    "    def grow_tree(self,x,y,depth=0):\n",
    "        \n",
    "        n_samples,n_feats=x.shape\n",
    "        n_labels=len(np.unique(y))\n",
    "        \n",
    "        #stopping criteria\n",
    "        if (depth>=self.max_depth or n_samples<self.min_samples_split or n_labels==1):\n",
    "            leaf_value=self.find_most_common(y)\n",
    "            return Node(value=leaf_value)\n",
    "        \n",
    "        feature_idx=np.random.choice(n_feats,self.n_features,replace=False)\n",
    "        # Find the best split\n",
    "        \n",
    "        best_feature,best_threshold=self.best_split(x,y,feature_idx)\n",
    "        \n",
    "        #find children\n",
    "        left_idx,right_idx=self.split(x[:,best_feature],best_threshold)\n",
    "        \n",
    "        left=self.grow_tree(x[left_idx,:],y[left_idx],depth+1)\n",
    "        right=self.grow_tree(x[right_idx,:],y[right_idx],depth+1)\n",
    "        return Node(best_feature,best_threshold,left,right)\n",
    "    \n",
    "    \n",
    "    def best_split(self,x,y,feature_idx):\n",
    "        best_gain=-1\n",
    "        split_idx,split_threshold=None,None\n",
    "        \n",
    "        for f in feature_idx:\n",
    "            x_colm=x[:,f]\n",
    "            threshold_values=np.unique(x_colm)\n",
    "            \n",
    "            for t in threshold_values:\n",
    "                # Calculate the information gain\n",
    "                gain=self.info_gain(y,x_colm,t)\n",
    "                \n",
    "                if gain>best_gain:\n",
    "                    best_gain=gain\n",
    "                    split_idx=f\n",
    "                    split_threshold=t\n",
    "        return split_idx,split_threshold\n",
    "    \n",
    "    \n",
    "    def info_gain(self,y,column,threshold):\n",
    "       \n",
    "        #parent entropy\n",
    "        parent_entropy=self.entropy(y)\n",
    "        \n",
    "        #create children\n",
    "        left_idx,right_idx=self.split(column,threshold)\n",
    "        \n",
    "        if len(left_idx)==0 or len(right_idx)==0:\n",
    "            return 0\n",
    "        \n",
    "        #calculate weighted average entropy of children\n",
    "        n=len(y)\n",
    "        n_l,n_r=len(left_idx),len(right_idx)\n",
    "        \n",
    "        e_l,e_r=self.entropy(y[left_idx]),self.entropy(y[right_idx])\n",
    "        \n",
    "        entropy_child=n_l/n*e_l+n_r/n*e_r\n",
    "        \n",
    "        information_gain=parent_entropy-entropy_child\n",
    "        \n",
    "        return information_gain\n",
    "        \n",
    "        \n",
    "    \n",
    "    def split(self,x_column,thres):\n",
    "        left_idx=np.argwhere(x_column<=thres).flatten()\n",
    "        right_idx=np.argwhere(x_column>thres).flatten()\n",
    "        return left_idx,right_idx\n",
    "        \n",
    "        \n",
    "        # calculate information gain\n",
    "    def entropy(self,y):\n",
    "        hist=np.bincount(y)\n",
    "        ps=hist/len(y)\n",
    "        return -np.sum([p*np.log2(p) for p in ps if p>0])\n",
    "    \n",
    "    \n",
    "    def fit(self,x,y):\n",
    "        # growing our tree\n",
    "        \n",
    "        self.n_features=x.shape[1] if self.n_features is None else min(self.n_features,x.shape[1])\n",
    "        self.root=self.grow_tree(x,y)\n",
    "        \n",
    "    \n",
    "    \n",
    "    def predict(self,test):\n",
    "        # traversing our tree\n",
    "        return np.array([self.traverse(x,self.root) for x in test])\n",
    "    \n",
    "    \n",
    "    def traverse(self,x,node):\n",
    "        if node.isleaf():\n",
    "            return node.value\n",
    "\n",
    "        if x[node.feature] <= node.threshold:\n",
    "            return self.traverse(x, node.left)\n",
    "        return self.traverse(x, node.right)\n",
    "        "
   ]
  },
  {
   "cell_type": "code",
   "execution_count": null,
   "id": "6db3b495-4955-4544-90b6-0d170d08a38c",
   "metadata": {},
   "outputs": [],
   "source": []
  },
  {
   "cell_type": "code",
   "execution_count": 45,
   "id": "f5dea378-0f59-4463-a844-181f90bfdda6",
   "metadata": {},
   "outputs": [
    {
     "name": "stdout",
     "output_type": "stream",
     "text": [
      "0.93\n"
     ]
    }
   ],
   "source": [
    "if __name__ == \"__main__\":\n",
    "    # Imports\n",
    "    from sklearn import datasets\n",
    "    from sklearn.model_selection import train_test_split\n",
    "\n",
    "    def accuracy(y_true, y_pred):\n",
    "        accuracy = np.sum(y_true == y_pred) / len(y_true)\n",
    "        return accuracy\n",
    "\n",
    "    data = datasets.load_breast_cancer()\n",
    "    x, y = data.data, data.target\n",
    "\n",
    "    xtrain, xtest, ytrain, ytest = train_test_split(\n",
    "        x, y, test_size=0.2, random_state=1234\n",
    "    )\n",
    "    \n",
    "    clf=DecisionTree(max_depth=10)\n",
    "    clf.fit(xtrain,ytrain)\n",
    "    ypred=clf.predict(xtest)\n",
    "    \n",
    "    acc_percent=accuracy(ytest,ypred)\n",
    "    \n",
    "    print(\"{:.2f}\".format(acc_percent))"
   ]
  },
  {
   "cell_type": "code",
   "execution_count": null,
   "id": "79fc5c23-a8fa-4534-8391-51b1e4337b8b",
   "metadata": {},
   "outputs": [],
   "source": []
  }
 ],
 "metadata": {
  "kernelspec": {
   "display_name": "Python 3 (ipykernel)",
   "language": "python",
   "name": "python3"
  },
  "language_info": {
   "codemirror_mode": {
    "name": "ipython",
    "version": 3
   },
   "file_extension": ".py",
   "mimetype": "text/x-python",
   "name": "python",
   "nbconvert_exporter": "python",
   "pygments_lexer": "ipython3",
   "version": "3.10.6"
  }
 },
 "nbformat": 4,
 "nbformat_minor": 5
}
