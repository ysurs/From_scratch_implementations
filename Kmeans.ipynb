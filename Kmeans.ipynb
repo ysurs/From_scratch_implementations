{
 "cells": [
  {
   "cell_type": "code",
   "execution_count": 14,
   "id": "5a7234e7-4eff-4292-8231-e3e4423d01b1",
   "metadata": {},
   "outputs": [],
   "source": [
    "import numpy as np"
   ]
  },
  {
   "cell_type": "code",
   "execution_count": 15,
   "id": "5e056779-7f0f-4047-999f-573658fb4ddc",
   "metadata": {},
   "outputs": [],
   "source": [
    "def euclidean(x1,x2):\n",
    "    return np.sqrt(np.sum((x1-x2)**2))"
   ]
  },
  {
   "cell_type": "code",
   "execution_count": 30,
   "id": "0d280998-5d85-4535-84ae-6592def67a65",
   "metadata": {},
   "outputs": [],
   "source": [
    "class kmeans:\n",
    "    \n",
    "    def __init__(self,num_of_clusters=5,max_iterations=10,plot_steps=False):\n",
    "        self.num_of_clusters=num_of_clusters\n",
    "        self.max_iterations=max_iterations\n",
    "        self.plot_steps=plot_steps\n",
    "        \n",
    "        # Will store the indices of points in this cluster\n",
    "        self.clusters=[[] for i in range(self.num_of_clusters)]\n",
    "        # mean feature vector in each cluster\n",
    "        self.centroid=[]\n",
    "        \n",
    "        \n",
    "    def predict(self, x):\n",
    "        \n",
    "        self.x=x\n",
    "        self.number_of_samples,self.num_of_features=x.shape\n",
    "        \n",
    "        \n",
    "        #select centroid\n",
    "        random_sample_idx=np.random.choice(self.number_of_samples,self.num_of_clusters,replace=False)\n",
    "        self.centroid=[self.x[i] for i in random_sample_idx]\n",
    "        \n",
    "    \n",
    "        #optimisation\n",
    "        for iter in range(self.max_iterations):\n",
    "            self.clusters=self.create_clusters(self.centroid)\n",
    "            \n",
    "            #update centroids\n",
    "            centroid_old=self.centroid\n",
    "            self.centroid=self.get_centroid(self.clusters)\n",
    "            \n",
    "            #Check convergence\n",
    "            if self.is_converged(centroid_old,self.centroid):\n",
    "                break\n",
    "    \n",
    "        return self.get_labels(self.clusters)\n",
    "    \n",
    "    def get_labels(self,clusters):\n",
    "        labels=np.empty(self.number_of_samples)\n",
    "        for cluster_idx,cluster in enumerate(clusters):\n",
    "            for sample_idx in cluster:\n",
    "                labels[sample_idx]=cluster_idx\n",
    "        return labels\n",
    "        \n",
    "    \n",
    "    def is_converged(self,old_centroid,new_centroid):\n",
    "        distances=[euclidean(old_centroid[i],new_centroid[i]) for i in range(self.num_of_clusters)]\n",
    "        return sum(distances)==0\n",
    "        \n",
    "            \n",
    "    \n",
    "    def get_centroid(self,clusters):\n",
    "        centroids=np.zeros((self.num_of_clusters,self.num_of_features))\n",
    "        for cluster_idx,cluster in enumerate(clusters):\n",
    "            cluster_mean=np.mean(self.x[cluster],axis=0)\n",
    "            centroids[cluster_idx]=cluster_mean\n",
    "        return centroids\n",
    "            \n",
    "            \n",
    "            \n",
    "            \n",
    "    def create_clusters(self,centroid):\n",
    "        clusters=[[] for i in range(self.num_of_clusters)]\n",
    "        \n",
    "        for idx,sample in enumerate(self.x):\n",
    "            centroid_idx=self.closest_centroid(sample,centroid)\n",
    "            clusters[centroid_idx].append(idx)\n",
    "            \n",
    "        return clusters\n",
    "    \n",
    "    \n",
    "    def closest_centroid(self,sample,centroids):\n",
    "        distances=[euclidean(sample,point) for point in centroids]\n",
    "        closest_centroid=np.argmin(distances)\n",
    "        return closest_centroid\n",
    "        \n",
    "        "
   ]
  },
  {
   "cell_type": "code",
   "execution_count": 31,
   "id": "afe91622-8324-4407-ab65-93beb9ad95dc",
   "metadata": {},
   "outputs": [
    {
     "name": "stdout",
     "output_type": "stream",
     "text": [
      "(500, 2)\n",
      "3\n"
     ]
    }
   ],
   "source": [
    "# Testing\n",
    "if __name__ == \"__main__\":\n",
    "    from sklearn.datasets import make_blobs\n",
    "\n",
    "    X, y = make_blobs(\n",
    "        centers=3, n_samples=500, n_features=2, shuffle=True, random_state=40\n",
    "    )\n",
    "    print(X.shape)\n",
    "\n",
    "    clusters = len(np.unique(y))\n",
    "    print(clusters)\n",
    "\n",
    "    k = kmeans(num_of_clusters=clusters, max_iterations=150, plot_steps=False)\n",
    "    y_pred = k.predict(X)\n",
    "\n"
   ]
  },
  {
   "cell_type": "code",
   "execution_count": 32,
   "id": "016f897c-f5e6-4e97-8465-45a23e246f07",
   "metadata": {},
   "outputs": [
    {
     "data": {
      "text/plain": [
       "array([0., 1., 2., 2., 1., 1., 0., 0., 0., 0., 1., 1., 2., 0., 1., 2., 1.,\n",
       "       1., 0., 2., 0., 1., 1., 1., 0., 0., 0., 1., 0., 2., 1., 0., 1., 2.,\n",
       "       2., 0., 1., 2., 0., 0., 1., 0., 1., 1., 2., 2., 2., 2., 1., 1., 2.,\n",
       "       2., 0., 2., 2., 1., 2., 1., 2., 1., 0., 2., 1., 0., 2., 0., 0., 1.,\n",
       "       1., 2., 2., 0., 1., 2., 0., 1., 1., 0., 1., 2., 0., 2., 2., 1., 2.,\n",
       "       1., 0., 2., 2., 0., 0., 0., 1., 0., 2., 1., 2., 0., 2., 1., 2., 1.,\n",
       "       2., 1., 1., 0., 1., 1., 1., 2., 2., 2., 1., 1., 1., 0., 1., 0., 0.,\n",
       "       1., 2., 2., 1., 2., 1., 0., 2., 1., 1., 1., 1., 2., 2., 2., 1., 0.,\n",
       "       1., 2., 1., 1., 0., 2., 1., 0., 0., 1., 0., 0., 0., 0., 1., 1., 1.,\n",
       "       1., 0., 2., 2., 2., 0., 2., 2., 0., 2., 2., 1., 0., 2., 2., 1., 1.,\n",
       "       0., 2., 1., 2., 2., 2., 2., 2., 2., 0., 1., 2., 1., 0., 1., 0., 2.,\n",
       "       0., 1., 1., 2., 2., 0., 1., 2., 2., 0., 2., 2., 0., 0., 2., 1., 1.,\n",
       "       1., 0., 0., 0., 2., 1., 1., 1., 1., 0., 2., 0., 1., 2., 0., 0., 2.,\n",
       "       1., 2., 2., 2., 1., 1., 2., 2., 0., 2., 1., 0., 1., 2., 2., 1., 1.,\n",
       "       0., 0., 2., 2., 0., 0., 0., 2., 2., 0., 0., 2., 0., 2., 1., 1., 2.,\n",
       "       2., 0., 2., 1., 1., 1., 1., 1., 1., 0., 1., 2., 2., 0., 1., 0., 0.,\n",
       "       0., 2., 0., 2., 1., 2., 1., 2., 1., 0., 0., 2., 2., 2., 1., 0., 0.,\n",
       "       2., 2., 0., 1., 1., 0., 0., 0., 2., 1., 1., 2., 2., 1., 2., 0., 1.,\n",
       "       1., 2., 0., 0., 1., 1., 1., 0., 1., 2., 2., 1., 0., 0., 1., 0., 0.,\n",
       "       0., 0., 1., 0., 2., 1., 0., 0., 2., 2., 1., 0., 0., 2., 2., 2., 0.,\n",
       "       2., 1., 0., 1., 2., 0., 2., 1., 1., 0., 1., 2., 2., 2., 1., 2., 0.,\n",
       "       2., 0., 0., 0., 0., 0., 0., 0., 1., 0., 0., 0., 1., 1., 2., 1., 1.,\n",
       "       2., 0., 0., 1., 1., 1., 2., 0., 0., 2., 1., 0., 1., 1., 1., 1., 0.,\n",
       "       0., 1., 2., 2., 1., 1., 0., 2., 1., 2., 2., 0., 0., 1., 2., 2., 2.,\n",
       "       1., 0., 2., 2., 0., 1., 2., 1., 1., 0., 0., 0., 2., 0., 0., 0., 2.,\n",
       "       1., 2., 1., 2., 1., 0., 1., 0., 1., 1., 1., 2., 2., 2., 2., 1., 1.,\n",
       "       0., 2., 1., 0., 2., 0., 2., 2., 2., 2., 2., 1., 0., 0., 0., 0., 0.,\n",
       "       0., 1., 1., 1., 2., 1., 0., 0., 0., 2., 2., 0., 2., 0., 0., 2., 1.,\n",
       "       0., 2., 0., 0., 0., 1., 0., 0., 1., 0., 2., 0., 0., 1., 1., 0., 1.,\n",
       "       2., 0., 0., 0., 1., 2., 0.])"
      ]
     },
     "execution_count": 32,
     "metadata": {},
     "output_type": "execute_result"
    }
   ],
   "source": [
    "y_pred"
   ]
  },
  {
   "cell_type": "code",
   "execution_count": null,
   "id": "e254d921-c017-4c58-9acd-f4f6773d5226",
   "metadata": {},
   "outputs": [],
   "source": [
    "np.array([])"
   ]
  }
 ],
 "metadata": {
  "kernelspec": {
   "display_name": "Python 3 (ipykernel)",
   "language": "python",
   "name": "python3"
  },
  "language_info": {
   "codemirror_mode": {
    "name": "ipython",
    "version": 3
   },
   "file_extension": ".py",
   "mimetype": "text/x-python",
   "name": "python",
   "nbconvert_exporter": "python",
   "pygments_lexer": "ipython3",
   "version": "3.10.6"
  }
 },
 "nbformat": 4,
 "nbformat_minor": 5
}
