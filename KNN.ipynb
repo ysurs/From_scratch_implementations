{
 "cells": [
  {
   "cell_type": "code",
   "execution_count": 1,
   "id": "dbc9fedf-6c8b-459e-b97d-c31820c590f1",
   "metadata": {},
   "outputs": [],
   "source": [
    "import torch"
   ]
  },
  {
   "cell_type": "code",
   "execution_count": 2,
   "id": "697b9278-2706-44c0-8254-a469540b5ef8",
   "metadata": {},
   "outputs": [],
   "source": [
    "import sklearn"
   ]
  },
  {
   "cell_type": "code",
   "execution_count": 40,
   "id": "9bdefb28-74bc-4df6-ba9b-4eaacea269c5",
   "metadata": {},
   "outputs": [],
   "source": [
    "from sklearn.datasets import load_iris\n",
    "from sklearn.model_selection import train_test_split\n",
    "from sklearn.metrics import accuracy_score\n",
    "import numpy as np"
   ]
  },
  {
   "cell_type": "markdown",
   "id": "59c82632-afec-4a28-a8d5-68256dcd0ac5",
   "metadata": {},
   "source": [
    "### KNN algorithm"
   ]
  },
  {
   "cell_type": "code",
   "execution_count": 15,
   "id": "453bc47b-6708-425a-94be-3020b20b1f8d",
   "metadata": {},
   "outputs": [],
   "source": [
    "# About the dataset"
   ]
  },
  {
   "cell_type": "code",
   "execution_count": 4,
   "id": "16ca2f8b-8e7b-4e38-8079-1d9b76848fe4",
   "metadata": {},
   "outputs": [],
   "source": [
    "irisdata=load_iris()\n"
   ]
  },
  {
   "cell_type": "code",
   "execution_count": 7,
   "id": "bdcd4c36-9c90-4a8f-bbc9-3b9341836c03",
   "metadata": {},
   "outputs": [
    {
     "data": {
      "text/plain": [
       "dict_keys(['data', 'target', 'frame', 'target_names', 'DESCR', 'feature_names', 'filename', 'data_module'])"
      ]
     },
     "execution_count": 7,
     "metadata": {},
     "output_type": "execute_result"
    }
   ],
   "source": [
    "irisdata.keys()"
   ]
  },
  {
   "cell_type": "code",
   "execution_count": 8,
   "id": "2a8678a2-1604-407d-8246-e885b11fc84d",
   "metadata": {},
   "outputs": [
    {
     "data": {
      "text/plain": [
       "array(['setosa', 'versicolor', 'virginica'], dtype='<U10')"
      ]
     },
     "execution_count": 8,
     "metadata": {},
     "output_type": "execute_result"
    }
   ],
   "source": [
    "irisdata['target_names']"
   ]
  },
  {
   "cell_type": "code",
   "execution_count": 9,
   "id": "6cfe3c69-9210-4b5b-96be-06fe1183d38b",
   "metadata": {},
   "outputs": [
    {
     "data": {
      "text/plain": [
       "array([0, 0, 0, 0, 0, 0, 0, 0, 0, 0, 0, 0, 0, 0, 0, 0, 0, 0, 0, 0, 0, 0,\n",
       "       0, 0, 0, 0, 0, 0, 0, 0, 0, 0, 0, 0, 0, 0, 0, 0, 0, 0, 0, 0, 0, 0,\n",
       "       0, 0, 0, 0, 0, 0, 1, 1, 1, 1, 1, 1, 1, 1, 1, 1, 1, 1, 1, 1, 1, 1,\n",
       "       1, 1, 1, 1, 1, 1, 1, 1, 1, 1, 1, 1, 1, 1, 1, 1, 1, 1, 1, 1, 1, 1,\n",
       "       1, 1, 1, 1, 1, 1, 1, 1, 1, 1, 1, 1, 2, 2, 2, 2, 2, 2, 2, 2, 2, 2,\n",
       "       2, 2, 2, 2, 2, 2, 2, 2, 2, 2, 2, 2, 2, 2, 2, 2, 2, 2, 2, 2, 2, 2,\n",
       "       2, 2, 2, 2, 2, 2, 2, 2, 2, 2, 2, 2, 2, 2, 2, 2, 2, 2])"
      ]
     },
     "execution_count": 9,
     "metadata": {},
     "output_type": "execute_result"
    }
   ],
   "source": [
    "irisdata['target']"
   ]
  },
  {
   "cell_type": "code",
   "execution_count": 11,
   "id": "860675bd-a0a2-48bc-8071-631860bafe30",
   "metadata": {},
   "outputs": [
    {
     "data": {
      "text/plain": [
       "['sepal length (cm)',\n",
       " 'sepal width (cm)',\n",
       " 'petal length (cm)',\n",
       " 'petal width (cm)']"
      ]
     },
     "execution_count": 11,
     "metadata": {},
     "output_type": "execute_result"
    }
   ],
   "source": [
    "irisdata['feature_names']"
   ]
  },
  {
   "cell_type": "code",
   "execution_count": 14,
   "id": "e6a6d8ce-a124-429c-b9f7-7f14511866e0",
   "metadata": {},
   "outputs": [
    {
     "data": {
      "text/plain": [
       "array([5.1, 3.5, 1.4, 0.2])"
      ]
     },
     "execution_count": 14,
     "metadata": {},
     "output_type": "execute_result"
    }
   ],
   "source": [
    "irisdata['data'][0]"
   ]
  },
  {
   "cell_type": "code",
   "execution_count": 16,
   "id": "54f91a42-8950-4806-8a17-ec65906e6328",
   "metadata": {},
   "outputs": [
    {
     "data": {
      "text/plain": [
       "(150, 4)"
      ]
     },
     "execution_count": 16,
     "metadata": {},
     "output_type": "execute_result"
    }
   ],
   "source": [
    "irisdata['data'].shape"
   ]
  },
  {
   "cell_type": "code",
   "execution_count": 18,
   "id": "70b0d361-bc1a-4880-b3ab-99b61397b35d",
   "metadata": {},
   "outputs": [
    {
     "data": {
      "text/plain": [
       "(150,)"
      ]
     },
     "execution_count": 18,
     "metadata": {},
     "output_type": "execute_result"
    }
   ],
   "source": [
    "irisdata['target'].shape"
   ]
  },
  {
   "cell_type": "markdown",
   "id": "1a4fdac4-e2ad-480c-9bd7-9d959e44f997",
   "metadata": {},
   "source": [
    "*****"
   ]
  },
  {
   "cell_type": "code",
   "execution_count": 78,
   "id": "3c2888d0-b9d5-4a8c-a98e-5236b47a6820",
   "metadata": {},
   "outputs": [],
   "source": [
    "class KNN:\n",
    "    \n",
    "    def __init__(self,neighbours,distance):\n",
    "        self.neighbours=neighbours\n",
    "        self.distance=distance\n",
    "        \n",
    "    def fit(self,x,y):\n",
    "        self.x_train=x\n",
    "        self.y_train=y\n",
    "    \n",
    "    def predict(self,x_test):\n",
    "        \n",
    "        y_pred=[]\n",
    "        \n",
    "        for item in x_test:\n",
    "            \n",
    "            if self.distance==\"euclidean\":\n",
    "                distance=np.linalg.norm(self.x_train-item,axis=1)\n",
    "            \n",
    "            elif self.distance==\"manhattan\":\n",
    "                distance=np.sum(np.abs(self.x_train-item),axis=1)\n",
    "            \n",
    "            else:\n",
    "                distance = np.power(np.sum(np.power(np.abs(self.x_train - x), self.distance), axis=1), 1/self.distance)\n",
    "            \n",
    "            \n",
    "            nearest_indices=np.argsort(distance)[:self.neighbours]\n",
    "            nearest_labels=self.y_train[nearest_indices]\n",
    "            \n",
    "            label= Counter(nearest_labels).most_common(1)[0][0]\n",
    "            y_pred.append(label)\n",
    "            \n",
    "        return np.array(y_pred)\n",
    "            \n",
    "        "
   ]
  },
  {
   "cell_type": "code",
   "execution_count": 79,
   "id": "18f60ab2-6e96-4866-9420-7aa40fa2537d",
   "metadata": {},
   "outputs": [],
   "source": [
    "xtrain,xtest,ytrain,ytest=train_test_split(irisdata['data'],irisdata['target'],test_size=0.2,random_state=42)"
   ]
  },
  {
   "cell_type": "code",
   "execution_count": 80,
   "id": "198a45da-87ee-4687-8d2b-2ef605ad2f09",
   "metadata": {},
   "outputs": [
    {
     "data": {
      "text/plain": [
       "((120, 4), (30, 4), (120,), (30,))"
      ]
     },
     "execution_count": 80,
     "metadata": {},
     "output_type": "execute_result"
    }
   ],
   "source": [
    "xtrain.shape,xtest.shape,ytrain.shape,ytest.shape"
   ]
  },
  {
   "cell_type": "code",
   "execution_count": 83,
   "id": "0988228c-6dd8-4592-9412-5396ac6fb87f",
   "metadata": {},
   "outputs": [
    {
     "name": "stdout",
     "output_type": "stream",
     "text": [
      "1.0\n"
     ]
    }
   ],
   "source": [
    "knn=KNN(neighbours=5, distance=\"euclidean\")\n",
    "\n",
    "knn.fit(xtrain,ytrain)\n",
    "\n",
    "ypred=knn.predict(xtest)\n",
    "\n",
    "accuracy=accuracy_score(ypred,ytest)\n",
    "\n",
    "print(accuracy)\n"
   ]
  },
  {
   "cell_type": "markdown",
   "id": "a2ad476f-2e60-4a75-bf72-fffb187f0853",
   "metadata": {},
   "source": [
    "****"
   ]
  },
  {
   "cell_type": "markdown",
   "id": "2ef35331-03ee-433b-ab65-cedd38d9a96d",
   "metadata": {},
   "source": [
    "### ROUGH WORK"
   ]
  },
  {
   "cell_type": "code",
   "execution_count": null,
   "id": "6ff8a863-f5e9-4876-a309-6fb73d0e9b8e",
   "metadata": {},
   "outputs": [],
   "source": [
    "np.linalg.norm(self.X_train - x, axis=1)"
   ]
  },
  {
   "cell_type": "code",
   "execution_count": 34,
   "id": "6f80114b-9a47-4200-94ac-a2a0e635545e",
   "metadata": {},
   "outputs": [
    {
     "data": {
      "text/plain": [
       "array([[4.6, 3.6, 1. , 0.2],\n",
       "       [5.7, 4.4, 1.5, 0.4],\n",
       "       [6.7, 3.1, 4.4, 1.4]])"
      ]
     },
     "execution_count": 34,
     "metadata": {},
     "output_type": "execute_result"
    }
   ],
   "source": [
    "knn.x_train[:3]"
   ]
  },
  {
   "cell_type": "code",
   "execution_count": 33,
   "id": "e281727f-3ce7-4117-ab4f-72644291e99d",
   "metadata": {},
   "outputs": [
    {
     "data": {
      "text/plain": [
       "array([6.1, 2.8, 4.7, 1.2])"
      ]
     },
     "execution_count": 33,
     "metadata": {},
     "output_type": "execute_result"
    }
   ],
   "source": [
    "xtest[0]"
   ]
  },
  {
   "cell_type": "code",
   "execution_count": 35,
   "id": "1bdf2b72-a0df-4001-b734-947414386501",
   "metadata": {},
   "outputs": [
    {
     "data": {
      "text/plain": [
       "array([[-1.5,  0.8, -3.7, -1. ],\n",
       "       [-0.4,  1.6, -3.2, -0.8],\n",
       "       [ 0.6,  0.3, -0.3,  0.2]])"
      ]
     },
     "execution_count": 35,
     "metadata": {},
     "output_type": "execute_result"
    }
   ],
   "source": [
    "knn.x_train[:3]-xtest[0]"
   ]
  },
  {
   "cell_type": "code",
   "execution_count": 46,
   "id": "482f2aaf-79a1-4b8f-a3dd-c1aeb4241e50",
   "metadata": {},
   "outputs": [
    {
     "data": {
      "text/plain": [
       "array([1.6643317 , 1.81383571, 4.9010203 , 1.29614814])"
      ]
     },
     "execution_count": 46,
     "metadata": {},
     "output_type": "execute_result"
    }
   ],
   "source": [
    "np.linalg.norm(knn.x_train[:3]-xtest[0], axis=1)"
   ]
  },
  {
   "cell_type": "code",
   "execution_count": 44,
   "id": "0ba5a7ac-1178-4ae5-826c-0dda5f61f1dd",
   "metadata": {},
   "outputs": [
    {
     "data": {
      "text/plain": [
       "4.192851058647326"
      ]
     },
     "execution_count": 44,
     "metadata": {},
     "output_type": "execute_result"
    }
   ],
   "source": [
    "import math\n",
    "math.sqrt(1.5*1.5+0.8**2+3.7**2+1)"
   ]
  },
  {
   "cell_type": "code",
   "execution_count": 47,
   "id": "c380c9fb-7b9f-4966-b467-6d98ec0c5e1f",
   "metadata": {},
   "outputs": [
    {
     "data": {
      "text/plain": [
       "array([7. , 6. , 1.4])"
      ]
     },
     "execution_count": 47,
     "metadata": {},
     "output_type": "execute_result"
    }
   ],
   "source": [
    "np.sum(np.abs(knn.x_train[:3]-xtest[0]),axis=1)"
   ]
  },
  {
   "cell_type": "code",
   "execution_count": 49,
   "id": "094b9361-e9c6-47ae-b435-d6fa6e029229",
   "metadata": {},
   "outputs": [
    {
     "data": {
      "text/plain": [
       "array([4, 0])"
      ]
     },
     "execution_count": 49,
     "metadata": {},
     "output_type": "execute_result"
    }
   ],
   "source": [
    "np.argsort([2,5,6,7,1])[:2]"
   ]
  },
  {
   "cell_type": "code",
   "execution_count": 51,
   "id": "d310a651-f9f5-4bec-a6ed-4657b2b024fc",
   "metadata": {},
   "outputs": [],
   "source": [
    "from collections import Counter"
   ]
  },
  {
   "cell_type": "code",
   "execution_count": 58,
   "id": "f3968226-9eee-4469-85f4-8d29061accfb",
   "metadata": {},
   "outputs": [
    {
     "data": {
      "text/plain": [
       "1"
      ]
     },
     "execution_count": 58,
     "metadata": {},
     "output_type": "execute_result"
    }
   ],
   "source": [
    "Counter([1,1,1,2,3]).most_common(1)[0][0]"
   ]
  },
  {
   "cell_type": "code",
   "execution_count": null,
   "id": "5c1e38ee-22b1-4bb2-9231-37113d1bf037",
   "metadata": {},
   "outputs": [],
   "source": []
  }
 ],
 "metadata": {
  "kernelspec": {
   "display_name": "Python 3 (ipykernel)",
   "language": "python",
   "name": "python3"
  },
  "language_info": {
   "codemirror_mode": {
    "name": "ipython",
    "version": 3
   },
   "file_extension": ".py",
   "mimetype": "text/x-python",
   "name": "python",
   "nbconvert_exporter": "python",
   "pygments_lexer": "ipython3",
   "version": "3.10.6"
  }
 },
 "nbformat": 4,
 "nbformat_minor": 5
}
