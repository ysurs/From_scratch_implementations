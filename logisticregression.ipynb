{
 "cells": [
  {
   "cell_type": "code",
   "execution_count": 4,
   "id": "07a6f5a3-fcd6-423d-bac9-dea33547b6f7",
   "metadata": {},
   "outputs": [],
   "source": [
    "import numpy as np\n",
    "from sklearn.model_selection import train_test_split\n",
    "from sklearn import datasets\n"
   ]
  },
  {
   "cell_type": "code",
   "execution_count": 5,
   "id": "a3e50e74-8d6c-4650-b60e-69806b35f3fb",
   "metadata": {},
   "outputs": [],
   "source": [
    "class Logistic:\n",
    "    \n",
    "    def __init__(self,learning_rate,number_of_iterations):\n",
    "        self.lr=learning_rate\n",
    "        self.iterations=number_of_iterations\n",
    "        self.w=None\n",
    "        self.b=None\n",
    "        \n",
    "    \n",
    "    def _sigmoid(self,x):\n",
    "        return 1/(1+np.exp(-x))\n",
    "    \n",
    "    # It is the forward pass along with weight update\n",
    "    def fit(self,x,y):\n",
    "        \n",
    "        number_of_samples,number_of_features=x.shape\n",
    "        \n",
    "        self.w=np.zeros(number_of_features)\n",
    "        self.b=0\n",
    "        \n",
    "        for i in range(self.iterations):\n",
    "            \n",
    "            linear_model=x.dot(self.w)+self.b\n",
    "            y_pred=self._sigmoid(linear_model)\n",
    "            \n",
    "            dw= (1/number_of_samples)*x.T@(y_pred-y)\n",
    "            db= (1/number_of_samples)*np.sum(y_pred-y)\n",
    "            \n",
    "            self.w-=self.lr*dw\n",
    "            self.b-=self.lr*db\n",
    "            \n",
    "            \n",
    "  \n",
    "    def predict(self,x):\n",
    "        \n",
    "        linear_model=x.dot(self.w)+self.b\n",
    "        y_prediction=self._sigmoid(linear_model)\n",
    "        y_class=[1 if i>0.5 else 0 for i in y_prediction]\n",
    "        \n",
    "        return np.array(y_class)"
   ]
  },
  {
   "cell_type": "code",
   "execution_count": 6,
   "id": "ca1a3479-5f5a-4cb5-b518-d05ea74ecba2",
   "metadata": {
    "tags": []
   },
   "outputs": [
    {
     "name": "stdout",
     "output_type": "stream",
     "text": [
      "0.95\n"
     ]
    }
   ],
   "source": [
    "if __name__==\"__main__\":\n",
    "    \n",
    "    def accuracy(ytrue,ypred):\n",
    "        acc=np.sum(ytrue==ypred)/len(ytrue)\n",
    "        return acc\n",
    "    \n",
    "    bc=datasets.load_breast_cancer()\n",
    "    x,y=bc.data,bc.target\n",
    "    \n",
    "    xtrain,xtest,ytrain,ytest=train_test_split(x,y,test_size=0.2,random_state=42)\n",
    "    \n",
    "    regressor=Logistic(learning_rate=0.0002,number_of_iterations=1000)\n",
    "    regressor.fit(xtrain,ytrain)\n",
    "    ypred=regressor.predict(xtest)\n",
    "    \n",
    "    acc_percent=accuracy(ytest,ypred)\n",
    "    \n",
    "    print(\"{:.2f}\".format(acc_percent))\n",
    "    \n",
    "    \n",
    "    \n",
    "    \n",
    "    "
   ]
  },
  {
   "cell_type": "code",
   "execution_count": 7,
   "id": "30007153-da1c-48f1-9927-ccc7560d3066",
   "metadata": {},
   "outputs": [
    {
     "data": {
      "text/plain": [
       "array([0, 0, 0, 1, 1, 0, 0, 0, 1, 1, 1, 0, 1, 1, 1, 0, 1, 1, 1, 0, 0, 1,\n",
       "       0, 1, 1, 1, 1, 1, 1, 0, 1, 1, 1, 0, 1, 1, 0, 1, 0, 1, 1, 0, 1, 1,\n",
       "       1, 1, 1, 1, 1, 1, 0, 0, 1, 1, 1, 1, 1, 0, 1, 1, 1, 0, 0, 1, 1, 1,\n",
       "       0, 0, 1, 1, 0, 0, 1, 1, 1, 1, 1, 0, 1, 1, 0, 1, 1, 0, 0, 0, 0, 0,\n",
       "       1, 1, 1, 1, 1, 1, 1, 1, 0, 0, 1, 0, 0, 1, 0, 0, 1, 1, 1, 0, 1, 1,\n",
       "       0, 1, 1, 0])"
      ]
     },
     "execution_count": 7,
     "metadata": {},
     "output_type": "execute_result"
    }
   ],
   "source": [
    "ypred"
   ]
  },
  {
   "cell_type": "code",
   "execution_count": null,
   "id": "1dc3541f-e597-4bda-89fa-d48cffdf466e",
   "metadata": {},
   "outputs": [],
   "source": [
    "fig = plt.figure(figsize=(8, 6))\n",
    "y_pred_line = regressor.predict(X)\n",
    "# cmap = plt.get_cmap(\"viridis\")\n",
    "\n",
    "m1 = plt.scatter(X_train, y_train, color='red', s=10,label=\"train\")\n",
    "m2 = plt.scatter(X_test, y_test, color='blue', s=10,label=\"test\")\n",
    "plt.plot(X, y_pred_line, color=\"black\", linewidth=2, label=\"Prediction\")\n",
    "plt.legend()\n",
    "plt.show()"
   ]
  }
 ],
 "metadata": {
  "kernelspec": {
   "display_name": "Python 3 (ipykernel)",
   "language": "python",
   "name": "python3"
  },
  "language_info": {
   "codemirror_mode": {
    "name": "ipython",
    "version": 3
   },
   "file_extension": ".py",
   "mimetype": "text/x-python",
   "name": "python",
   "nbconvert_exporter": "python",
   "pygments_lexer": "ipython3",
   "version": "3.10.6"
  }
 },
 "nbformat": 4,
 "nbformat_minor": 5
}
